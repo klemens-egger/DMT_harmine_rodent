{
 "cells": [
  {
   "cell_type": "code",
   "execution_count": 2,
   "id": "349aae8d-04a3-4022-ad53-347e4e658ec7",
   "metadata": {},
   "outputs": [],
   "source": [
    "import os\n",
    "import fnmatch\n",
    "import pandas as pd\n",
    "import csv\n",
    "import numpy as np\n",
    "from pathlib import Path\n",
    "import statsmodels.api as sm\n",
    "from statsmodels.formula.api import ols\n",
    "import scipy.stats as stats\n",
    "import matplotlib.pyplot as plt\n",
    "import pingouin as pg\n",
    "\n",
    "pd.set_option('display.max_columns', 50)"
   ]
  },
  {
   "cell_type": "code",
   "execution_count": 3,
   "id": "f636fc6c-364d-4bbd-93f2-ca4b70459800",
   "metadata": {},
   "outputs": [],
   "source": [
    "# Definitions\n",
    "\n",
    "analysis_path = os.path.dirname(os.getcwd())\n",
    "path = os.path.dirname(analysis_path)\n",
    "\n",
    "df_1 = pd.read_excel(f'{analysis_path}/02_Results_concentration_brain.xlsx', header=0)\n",
    "df_2 = pd.read_excel(f'{analysis_path}/02_Results_exp_2_concentration_brain.xlsx', header=0)"
   ]
  },
  {
   "cell_type": "code",
   "execution_count": 4,
   "id": "a3448da7-2418-4423-9e6e-4bd188a008cd",
   "metadata": {},
   "outputs": [],
   "source": [
    "df_1_short = df_1[((df_1['Treatment_Group']=='Har + DMT')) & ((df_1['Component Name']=='DMT'))]\n",
    "df_2_short = df_2[((df_2['Treatment_Group']=='Har + DMT')) & (df_2['Component Name']=='DMT') & ((df_2['Sample']=='Front Cort') | (df_2['Sample']=='Cerebellum'))]"
   ]
  },
  {
   "cell_type": "code",
   "execution_count": 5,
   "id": "f891c0cc-2c91-4f0b-962e-139fc37a69d2",
   "metadata": {},
   "outputs": [],
   "source": [
    "df_1_front = df_1_short[df_1_short['Sample']=='Front Cort']\n",
    "df_1_cere = df_1_short[df_1_short['Sample']=='Cerebellum']\n",
    "\n",
    "df_2_front = df_2_short[df_2_short['Sample']=='Front Cort']\n",
    "df_2_cere = df_2_short[df_2_short['Sample']=='Cerebellum']\n"
   ]
  },
  {
   "cell_type": "code",
   "execution_count": 13,
   "id": "996faad2-7696-4f7b-929c-d942463c8ef1",
   "metadata": {},
   "outputs": [
    {
     "data": {
      "text/html": [
       "<div>\n",
       "<style scoped>\n",
       "    .dataframe tbody tr th:only-of-type {\n",
       "        vertical-align: middle;\n",
       "    }\n",
       "\n",
       "    .dataframe tbody tr th {\n",
       "        vertical-align: top;\n",
       "    }\n",
       "\n",
       "    .dataframe thead th {\n",
       "        text-align: right;\n",
       "    }\n",
       "</style>\n",
       "<table border=\"1\" class=\"dataframe\">\n",
       "  <thead>\n",
       "    <tr style=\"text-align: right;\">\n",
       "      <th></th>\n",
       "      <th>Sample Name</th>\n",
       "      <th>Treatment_Group_#</th>\n",
       "      <th>Treatment_Group</th>\n",
       "      <th>Sample Number</th>\n",
       "      <th>Dilution Factor</th>\n",
       "      <th>Component Name</th>\n",
       "      <th>Calculated Concentration [ng/g]</th>\n",
       "      <th>Sample</th>\n",
       "      <th>mol_weight</th>\n",
       "      <th>molar_concentration nmol/L</th>\n",
       "    </tr>\n",
       "  </thead>\n",
       "  <tbody>\n",
       "    <tr>\n",
       "      <th>49</th>\n",
       "      <td>Rat5_Vial09</td>\n",
       "      <td>2</td>\n",
       "      <td>Har + DMT</td>\n",
       "      <td>1</td>\n",
       "      <td>2.20</td>\n",
       "      <td>DMT</td>\n",
       "      <td>2570.039</td>\n",
       "      <td>Front Cort</td>\n",
       "      <td>188.274</td>\n",
       "      <td>13650.525298</td>\n",
       "    </tr>\n",
       "    <tr>\n",
       "      <th>61</th>\n",
       "      <td>Rat6_Vial11</td>\n",
       "      <td>2</td>\n",
       "      <td>Har + DMT</td>\n",
       "      <td>1</td>\n",
       "      <td>2.07</td>\n",
       "      <td>DMT</td>\n",
       "      <td>2163.154</td>\n",
       "      <td>Front Cort</td>\n",
       "      <td>188.274</td>\n",
       "      <td>11489.393119</td>\n",
       "    </tr>\n",
       "    <tr>\n",
       "      <th>73</th>\n",
       "      <td>Rat7_Vial13</td>\n",
       "      <td>2</td>\n",
       "      <td>Har + DMT</td>\n",
       "      <td>1</td>\n",
       "      <td>2.70</td>\n",
       "      <td>DMT</td>\n",
       "      <td>1878.217</td>\n",
       "      <td>Front Cort</td>\n",
       "      <td>188.274</td>\n",
       "      <td>9975.976502</td>\n",
       "    </tr>\n",
       "    <tr>\n",
       "      <th>85</th>\n",
       "      <td>Rat8_Vial15</td>\n",
       "      <td>2</td>\n",
       "      <td>Har + DMT</td>\n",
       "      <td>1</td>\n",
       "      <td>2.66</td>\n",
       "      <td>DMT</td>\n",
       "      <td>2482.147</td>\n",
       "      <td>Front Cort</td>\n",
       "      <td>188.274</td>\n",
       "      <td>13183.695040</td>\n",
       "    </tr>\n",
       "    <tr>\n",
       "      <th>97</th>\n",
       "      <td>Rat9_Vial17</td>\n",
       "      <td>2</td>\n",
       "      <td>Har + DMT</td>\n",
       "      <td>1</td>\n",
       "      <td>2.65</td>\n",
       "      <td>DMT</td>\n",
       "      <td>1519.974</td>\n",
       "      <td>Front Cort</td>\n",
       "      <td>188.274</td>\n",
       "      <td>8073.201823</td>\n",
       "    </tr>\n",
       "  </tbody>\n",
       "</table>\n",
       "</div>"
      ],
      "text/plain": [
       "    Sample Name  Treatment_Group_# Treatment_Group  Sample Number  \\\n",
       "49  Rat5_Vial09                  2       Har + DMT              1   \n",
       "61  Rat6_Vial11                  2       Har + DMT              1   \n",
       "73  Rat7_Vial13                  2       Har + DMT              1   \n",
       "85  Rat8_Vial15                  2       Har + DMT              1   \n",
       "97  Rat9_Vial17                  2       Har + DMT              1   \n",
       "\n",
       "    Dilution Factor Component Name  Calculated Concentration [ng/g]  \\\n",
       "49             2.20            DMT                         2570.039   \n",
       "61             2.07            DMT                         2163.154   \n",
       "73             2.70            DMT                         1878.217   \n",
       "85             2.66            DMT                         2482.147   \n",
       "97             2.65            DMT                         1519.974   \n",
       "\n",
       "        Sample  mol_weight  molar_concentration nmol/L  \n",
       "49  Front Cort     188.274                13650.525298  \n",
       "61  Front Cort     188.274                11489.393119  \n",
       "73  Front Cort     188.274                 9975.976502  \n",
       "85  Front Cort     188.274                13183.695040  \n",
       "97  Front Cort     188.274                 8073.201823  "
      ]
     },
     "execution_count": 13,
     "metadata": {},
     "output_type": "execute_result"
    }
   ],
   "source": [
    "df_2_front"
   ]
  },
  {
   "cell_type": "code",
   "execution_count": 7,
   "id": "497b1959-b209-42b6-a82e-1da217a8cc0f",
   "metadata": {},
   "outputs": [
    {
     "data": {
      "text/plain": [
       "\u001b[0;31mSignature:\u001b[0m \u001b[0mstats\u001b[0m\u001b[0;34m.\u001b[0m\u001b[0mshapiro\u001b[0m\u001b[0;34m(\u001b[0m\u001b[0mx\u001b[0m\u001b[0;34m)\u001b[0m\u001b[0;34m\u001b[0m\u001b[0;34m\u001b[0m\u001b[0m\n",
       "\u001b[0;31mDocstring:\u001b[0m\n",
       "Perform the Shapiro-Wilk test for normality.\n",
       "\n",
       "The Shapiro-Wilk test tests the null hypothesis that the\n",
       "data was drawn from a normal distribution.\n",
       "\n",
       "Parameters\n",
       "----------\n",
       "x : array_like\n",
       "    Array of sample data.\n",
       "\n",
       "Returns\n",
       "-------\n",
       "statistic : float\n",
       "    The test statistic.\n",
       "p-value : float\n",
       "    The p-value for the hypothesis test.\n",
       "\n",
       "See Also\n",
       "--------\n",
       "anderson : The Anderson-Darling test for normality\n",
       "kstest : The Kolmogorov-Smirnov test for goodness of fit.\n",
       "\n",
       "Notes\n",
       "-----\n",
       "The algorithm used is described in [4]_ but censoring parameters as\n",
       "described are not implemented. For N > 5000 the W test statistic is accurate\n",
       "but the p-value may not be.\n",
       "\n",
       "The chance of rejecting the null hypothesis when it is true is close to 5%\n",
       "regardless of sample size.\n",
       "\n",
       "References\n",
       "----------\n",
       ".. [1] https://www.itl.nist.gov/div898/handbook/prc/section2/prc213.htm\n",
       ".. [2] Shapiro, S. S. & Wilk, M.B (1965). An analysis of variance test for\n",
       "       normality (complete samples), Biometrika, Vol. 52, pp. 591-611.\n",
       ".. [3] Razali, N. M. & Wah, Y. B. (2011) Power comparisons of Shapiro-Wilk,\n",
       "       Kolmogorov-Smirnov, Lilliefors and Anderson-Darling tests, Journal of\n",
       "       Statistical Modeling and Analytics, Vol. 2, pp. 21-33.\n",
       ".. [4] ALGORITHM AS R94 APPL. STATIST. (1995) VOL. 44, NO. 4.\n",
       "\n",
       "Examples\n",
       "--------\n",
       ">>> from scipy import stats\n",
       ">>> rng = np.random.default_rng()\n",
       ">>> x = stats.norm.rvs(loc=5, scale=3, size=100, random_state=rng)\n",
       ">>> shapiro_test = stats.shapiro(x)\n",
       ">>> shapiro_test\n",
       "ShapiroResult(statistic=0.9813305735588074, pvalue=0.16855233907699585)\n",
       ">>> shapiro_test.statistic\n",
       "0.9813305735588074\n",
       ">>> shapiro_test.pvalue\n",
       "0.16855233907699585\n",
       "\u001b[0;31mFile:\u001b[0m      ~/.pyenv/versions/3.9.7/lib/python3.9/site-packages/scipy/stats/_morestats.py\n",
       "\u001b[0;31mType:\u001b[0m      function\n"
      ]
     },
     "metadata": {},
     "output_type": "display_data"
    }
   ],
   "source": [
    "stats.shapiro?"
   ]
  },
  {
   "cell_type": "code",
   "execution_count": 14,
   "id": "54c6f58d-85fc-4ec9-a836-afae3a105618",
   "metadata": {},
   "outputs": [
    {
     "name": "stdout",
     "output_type": "stream",
     "text": [
      "Exp 1\n",
      "Front. Cort\n",
      "ShapiroResult(statistic=0.8722066879272461, pvalue=0.2351434975862503)\n",
      "Cerebellum\n",
      "ShapiroResult(statistic=0.8696577548980713, pvalue=0.22484445571899414)\n",
      "Exp 2\n",
      "Front. Cort\n",
      "ShapiroResult(statistic=0.9440222382545471, pvalue=0.6944968700408936)\n",
      "Cerebellum\n",
      "ShapiroResult(statistic=0.9539803266525269, pvalue=0.7655690312385559)\n"
     ]
    }
   ],
   "source": [
    "# normality test\n",
    "\n",
    "print('Exp 1')\n",
    "print('Front. Cort')\n",
    "print(stats.shapiro(df_1_front['Calculated Concentration µg/L']))\n",
    "print('Cerebellum')\n",
    "print(stats.shapiro(df_1_cere['Calculated Concentration µg/L']))\n",
    "print('Exp 2')\n",
    "print('Front. Cort')\n",
    "print(stats.shapiro(df_2_front['Calculated Concentration [ng/g]']))\n",
    "print('Cerebellum')\n",
    "print(stats.shapiro(df_2_cere['Calculated Concentration [ng/g]']))\n"
   ]
  },
  {
   "cell_type": "code",
   "execution_count": 15,
   "id": "75817b94-d0cf-4635-9048-6c123d97289c",
   "metadata": {},
   "outputs": [
    {
     "name": "stdout",
     "output_type": "stream",
     "text": [
      "Experiment 1\n",
      "Levene's test statistic: 1.9294949140969464\n",
      "P-value: 0.19496829684625122\n",
      "Experiment 2\n",
      "Levene's test statistic: 0.1708982466609166\n",
      "P-value: 0.6901739145001002\n"
     ]
    }
   ],
   "source": [
    "## test for homogeneity of variance between the two groups of each experiment\n",
    "\n",
    "# Exp 1\n",
    "stat, p_value = stats.levene(df_1_front['Calculated Concentration µg/L'], df_1_cere['Calculated Concentration µg/L'])\n",
    "\n",
    "print('Experiment 1')\n",
    "print(f\"Levene's test statistic: {stat}\")\n",
    "print(f\"P-value: {p_value}\")\n",
    "\n",
    "# Exp 1\n",
    "stat, p_value = stats.levene(df_2_front['Calculated Concentration [ng/g]'], df_2_cere['Calculated Concentration [ng/g]'])\n",
    "\n",
    "print('Experiment 2')\n",
    "print(f\"Levene's test statistic: {stat}\")\n",
    "print(f\"P-value: {p_value}\")\n"
   ]
  },
  {
   "cell_type": "markdown",
   "id": "be904560-7195-457f-8e83-6e8fffb085eb",
   "metadata": {},
   "source": [
    "#### -> homogeneity is okay, so t test can be used"
   ]
  },
  {
   "cell_type": "code",
   "execution_count": 16,
   "id": "a3a9260e-c5e6-4bcf-b513-993c977fcd8c",
   "metadata": {},
   "outputs": [
    {
     "name": "stdout",
     "output_type": "stream",
     "text": [
      "Experiment 1\n",
      "t-test statistic: 2.751009254545537\n",
      "P-value: 0.040261943508780734\n",
      "Experiment 2\n",
      "t-test statistic: 10.29283872595399\n",
      "P-value: 0.0005025325389158062\n"
     ]
    }
   ],
   "source": [
    "### CHeck for differences in DMT distribution between cortex and cerebellum for both experiments\n",
    "## with paired t-test\n",
    "# Exp 1\n",
    "stat, p_value = stats.ttest_rel(df_1_front['Calculated Concentration µg/L'], df_1_cere['Calculated Concentration µg/L'])\n",
    "\n",
    "print('Experiment 1')\n",
    "print(f\"t-test statistic: {stat}\")\n",
    "print(f\"P-value: {p_value}\")\n",
    "\n",
    "# Exp 2 \n",
    "stat, p_value = stats.ttest_rel(df_2_front['Calculated Concentration [ng/g]'], df_2_cere['Calculated Concentration [ng/g]'])\n",
    "\n",
    "print('Experiment 2')\n",
    "print(f\"t-test statistic: {stat}\")\n",
    "print(f\"P-value: {p_value}\")"
   ]
  },
  {
   "cell_type": "code",
   "execution_count": 17,
   "id": "52e3a06a-b085-4b9d-a95b-17553d753ef8",
   "metadata": {},
   "outputs": [
    {
     "name": "stdout",
     "output_type": "stream",
     "text": [
      "Experiment 1\n"
     ]
    },
    {
     "data": {
      "text/html": [
       "<div>\n",
       "<style scoped>\n",
       "    .dataframe tbody tr th:only-of-type {\n",
       "        vertical-align: middle;\n",
       "    }\n",
       "\n",
       "    .dataframe tbody tr th {\n",
       "        vertical-align: top;\n",
       "    }\n",
       "\n",
       "    .dataframe thead th {\n",
       "        text-align: right;\n",
       "    }\n",
       "</style>\n",
       "<table border=\"1\" class=\"dataframe\">\n",
       "  <thead>\n",
       "    <tr style=\"text-align: right;\">\n",
       "      <th></th>\n",
       "      <th>T</th>\n",
       "      <th>dof</th>\n",
       "      <th>alternative</th>\n",
       "      <th>p-val</th>\n",
       "      <th>CI95%</th>\n",
       "      <th>cohen-d</th>\n",
       "      <th>BF10</th>\n",
       "      <th>power</th>\n",
       "    </tr>\n",
       "  </thead>\n",
       "  <tbody>\n",
       "    <tr>\n",
       "      <th>T-test</th>\n",
       "      <td>2.751009</td>\n",
       "      <td>5</td>\n",
       "      <td>two-sided</td>\n",
       "      <td>0.040262</td>\n",
       "      <td>[2.91, 85.93]</td>\n",
       "      <td>0.41302</td>\n",
       "      <td>2.447</td>\n",
       "      <td>0.131875</td>\n",
       "    </tr>\n",
       "  </tbody>\n",
       "</table>\n",
       "</div>"
      ],
      "text/plain": [
       "               T  dof alternative     p-val          CI95%  cohen-d   BF10  \\\n",
       "T-test  2.751009    5   two-sided  0.040262  [2.91, 85.93]  0.41302  2.447   \n",
       "\n",
       "           power  \n",
       "T-test  0.131875  "
      ]
     },
     "metadata": {},
     "output_type": "display_data"
    },
    {
     "name": "stdout",
     "output_type": "stream",
     "text": [
      "Experiment 2\n"
     ]
    },
    {
     "data": {
      "text/html": [
       "<div>\n",
       "<style scoped>\n",
       "    .dataframe tbody tr th:only-of-type {\n",
       "        vertical-align: middle;\n",
       "    }\n",
       "\n",
       "    .dataframe tbody tr th {\n",
       "        vertical-align: top;\n",
       "    }\n",
       "\n",
       "    .dataframe thead th {\n",
       "        text-align: right;\n",
       "    }\n",
       "</style>\n",
       "<table border=\"1\" class=\"dataframe\">\n",
       "  <thead>\n",
       "    <tr style=\"text-align: right;\">\n",
       "      <th></th>\n",
       "      <th>T</th>\n",
       "      <th>dof</th>\n",
       "      <th>alternative</th>\n",
       "      <th>p-val</th>\n",
       "      <th>CI95%</th>\n",
       "      <th>cohen-d</th>\n",
       "      <th>BF10</th>\n",
       "      <th>power</th>\n",
       "    </tr>\n",
       "  </thead>\n",
       "  <tbody>\n",
       "    <tr>\n",
       "      <th>T-test</th>\n",
       "      <td>10.292839</td>\n",
       "      <td>4</td>\n",
       "      <td>two-sided</td>\n",
       "      <td>0.000503</td>\n",
       "      <td>[474.67, 825.34]</td>\n",
       "      <td>1.612996</td>\n",
       "      <td>62.384</td>\n",
       "      <td>0.76838</td>\n",
       "    </tr>\n",
       "  </tbody>\n",
       "</table>\n",
       "</div>"
      ],
      "text/plain": [
       "                T  dof alternative     p-val             CI95%   cohen-d  \\\n",
       "T-test  10.292839    4   two-sided  0.000503  [474.67, 825.34]  1.612996   \n",
       "\n",
       "          BF10    power  \n",
       "T-test  62.384  0.76838  "
      ]
     },
     "metadata": {},
     "output_type": "display_data"
    }
   ],
   "source": [
    "## with pingoiun gives more information\n",
    "\n",
    "# Exp1\n",
    "res = pg.ttest(df_1_front['Calculated Concentration µg/L'], df_1_cere['Calculated Concentration µg/L'], paired=True, correction=False)\n",
    "print('Experiment 1')\n",
    "display(res)\n",
    "\n",
    "# Exp2\n",
    "res = pg.ttest(df_2_front['Calculated Concentration [ng/g]'], df_2_cere['Calculated Concentration [ng/g]'], paired=True, correction=False)\n",
    "print('Experiment 2')\n",
    "display(res)"
   ]
  },
  {
   "cell_type": "code",
   "execution_count": null,
   "id": "68b38818-002c-4ed7-8abe-206247ee5751",
   "metadata": {},
   "outputs": [],
   "source": []
  }
 ],
 "metadata": {
  "kernelspec": {
   "display_name": "Python 3 (ipykernel)",
   "language": "python",
   "name": "python3"
  },
  "language_info": {
   "codemirror_mode": {
    "name": "ipython",
    "version": 3
   },
   "file_extension": ".py",
   "mimetype": "text/x-python",
   "name": "python",
   "nbconvert_exporter": "python",
   "pygments_lexer": "ipython3",
   "version": "3.9.7"
  }
 },
 "nbformat": 4,
 "nbformat_minor": 5
}
